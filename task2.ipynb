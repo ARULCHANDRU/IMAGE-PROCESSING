{
 "cells": [
  {
   "cell_type": "code",
   "execution_count": 1,
   "metadata": {},
   "outputs": [],
   "source": [
    "#importing OpenCV Library\n",
    "import cv2\n",
    "\n",
    "#setting path (REPLACE WITH YOUR IMAGE PATH)\n",
    "path=\"moon.jpg\"\n",
    "\n",
    "#reading the image\n",
    "image=cv2.imread(path)\n",
    "\n",
    "# converting image to Grayscale \n",
    "image_gray = cv2.cvtColor(image,cv2.COLOR_BGR2GRAY)\n",
    "\n",
    "#displaying the image along with grayscale\n",
    "cv2.imshow(\"output\",image)\n",
    "cv2.imshow(\"output_gray\",image_gray)\n",
    "\n",
    "#wait until an key press to close the window\n",
    "cv2.waitKey()\n",
    "\n",
    "#kill all the windows\n",
    "cv2.destroyAllWindows()"
   ]
  }
 ],
 "metadata": {
  "kernelspec": {
   "display_name": "Python 3",
   "language": "python",
   "name": "python3"
  },
  "language_info": {
   "codemirror_mode": {
    "name": "ipython",
    "version": 3
   },
   "file_extension": ".py",
   "mimetype": "text/x-python",
   "name": "python",
   "nbconvert_exporter": "python",
   "pygments_lexer": "ipython3",
   "version": "3.11.8"
  }
 },
 "nbformat": 4,
 "nbformat_minor": 2
}
